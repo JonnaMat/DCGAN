{
 "cells": [
  {
   "cell_type": "markdown",
   "id": "496ccfe9",
   "metadata": {
    "id": "woOOrrvB67_f",
    "papermill": {
     "duration": 0.006815,
     "end_time": "2022-10-19T08:21:38.279024",
     "exception": false,
     "start_time": "2022-10-19T08:21:38.272209",
     "status": "completed"
    },
    "tags": []
   },
   "source": [
    "# A comparative evaluation on the generative ability of DCGANs\n",
    "\n",
    "Kinga Jenei and Jonna Marie Matthiesen\n",
    "\n",
    "Inspired by the pytorch DCGAN tutorial https://pytorch.org/tutorials/beginner/dcgan_faces_tutorial.html."
   ]
  },
  {
   "cell_type": "code",
   "execution_count": null,
   "id": "aef65bbd",
   "metadata": {
    "execution": {
     "iopub.execute_input": "2022-10-19T08:21:38.292669Z",
     "iopub.status.busy": "2022-10-19T08:21:38.291519Z",
     "iopub.status.idle": "2022-10-19T08:21:40.216840Z",
     "shell.execute_reply": "2022-10-19T08:21:40.215879Z"
    },
    "id": "o-oIyT6UM8nT",
    "papermill": {
     "duration": 1.934705,
     "end_time": "2022-10-19T08:21:40.219360",
     "exception": false,
     "start_time": "2022-10-19T08:21:38.284655",
     "status": "completed"
    },
    "tags": []
   },
   "outputs": [],
   "source": [
    "import random\n",
    "\n",
    "import torch\n",
    "from torch import optim\n",
    "import torchvision.datasets as dset\n",
    "import torchvision.transforms as transforms\n",
    "\n",
    "\n",
    "from utils.figures import *\n",
    "from utils.networks import *"
   ]
  },
  {
   "cell_type": "code",
   "execution_count": null,
   "id": "23fc064f",
   "metadata": {
    "execution": {
     "iopub.execute_input": "2022-10-19T08:21:40.232216Z",
     "iopub.status.busy": "2022-10-19T08:21:40.231771Z",
     "iopub.status.idle": "2022-10-19T08:21:40.243623Z",
     "shell.execute_reply": "2022-10-19T08:21:40.242689Z"
    },
    "id": "t3JLmLAzN3ga",
    "papermill": {
     "duration": 0.020549,
     "end_time": "2022-10-19T08:21:40.245677",
     "exception": false,
     "start_time": "2022-10-19T08:21:40.225128",
     "status": "completed"
    },
    "tags": []
   },
   "outputs": [],
   "source": [
    "# Set random seed for reproducibility\n",
    "manualSeed = '999'\n",
    "random.seed(manualSeed)\n",
    "torch.manual_seed(manualSeed)\n",
    "print(\"Random Seed: \", manualSeed)"
   ]
  },
  {
   "cell_type": "code",
   "execution_count": null,
   "id": "f2569754",
   "metadata": {
    "execution": {
     "iopub.execute_input": "2022-10-19T08:21:40.277237Z",
     "iopub.status.busy": "2022-10-19T08:21:40.276900Z",
     "iopub.status.idle": "2022-10-19T08:21:40.282273Z",
     "shell.execute_reply": "2022-10-19T08:21:40.281075Z"
    },
    "id": "49XixmFwOE53",
    "papermill": {
     "duration": 0.014507,
     "end_time": "2022-10-19T08:21:40.284364",
     "exception": false,
     "start_time": "2022-10-19T08:21:40.269857",
     "status": "completed"
    },
    "tags": []
   },
   "outputs": [],
   "source": [
    "dataroot = # dataroot must contain images inside folders\n",
    "workers = 2 \n",
    "\n",
    "# RGB images of shape 64x64\n",
    "image_size = 64 \n",
    "\n",
    "# model training\n",
    "num_epochs = 30 \n",
    "batch_size = 512 \n",
    "\n",
    "# We experimented with different individual Learning rates for Generator and Discriminator\n",
    "max_lr_D = 0.0002 \n",
    "max_lr_G = 0.0002 \n",
    "beta1 = 0.5 \n",
    "ngpu = 1\n",
    "device = torch.device(\"cuda:0\" if (torch.cuda.is_available() and ngpu > 0) else \"cpu\")\n",
    "print(f\"Using device = {device}.\")"
   ]
  },
  {
   "cell_type": "code",
   "execution_count": null,
   "id": "f2711819",
   "metadata": {
    "execution": {
     "iopub.execute_input": "2022-10-19T08:21:40.309653Z",
     "iopub.status.busy": "2022-10-19T08:21:40.308081Z",
     "iopub.status.idle": "2022-10-19T08:24:07.864217Z",
     "shell.execute_reply": "2022-10-19T08:24:07.863308Z"
    },
    "executionInfo": {
     "elapsed": 122264,
     "status": "ok",
     "timestamp": 1665748273528,
     "user": {
      "displayName": "Jonna Marie Matthiesen",
      "userId": "17151294242372051215"
     },
     "user_tz": -120
    },
    "id": "sU4lJf7Kcf66",
    "papermill": {
     "duration": 147.569816,
     "end_time": "2022-10-19T08:24:07.871266",
     "exception": false,
     "start_time": "2022-10-19T08:21:40.301450",
     "status": "completed"
    },
    "tags": []
   },
   "outputs": [],
   "source": [
    "dataset = dset.ImageFolder(\n",
    "    root=dataroot,\n",
    "    transform=transforms.Compose(\n",
    "        [\n",
    "            transforms.Resize(image_size),\n",
    "            transforms.CenterCrop(\n",
    "                image_size\n",
    "            ),  # Depending on the Dataset chose CenterCrop or RandomCrop\n",
    "            transforms.RandomHorizontalFlip(0.5), # remove depending on the dataset\n",
    "            transforms.RandomVerticalFlip(0.5), # remove depending on the dataset\n",
    "            transforms.ToTensor(),  # image values in range [0, 1]\n",
    "            transforms.Normalize(\n",
    "                (0.5, 0.5, 0.5), (0.5, 0.5, 0.5)\n",
    "            ),  # yields images with mean zero and values in range [-1, 1] - desired range since we are using tanh activation in the generator\n",
    "        ]\n",
    "    ),\n",
    ")\n",
    "\n",
    "dataloader = torch.utils.data.DataLoader(\n",
    "    dataset, batch_size=batch_size, shuffle=True, num_workers=workers\n",
    ")\n",
    "\n",
    "print(f\"Dataset size = {len(dataset)} images.\")\n",
    "imshow_grid(next(iter(dataloader)), device, \"Training Images\")"
   ]
  },
  {
   "cell_type": "code",
   "execution_count": null,
   "id": "57ba2a3f",
   "metadata": {
    "execution": {
     "iopub.execute_input": "2022-10-19T08:24:08.105263Z",
     "iopub.status.busy": "2022-10-19T08:24:08.104662Z",
     "iopub.status.idle": "2022-10-19T08:24:08.113862Z",
     "shell.execute_reply": "2022-10-19T08:24:08.112948Z"
    },
    "executionInfo": {
     "elapsed": 15,
     "status": "ok",
     "timestamp": 1665748716047,
     "user": {
      "displayName": "Jonna Marie Matthiesen",
      "userId": "17151294242372051215"
     },
     "user_tz": -120
    },
    "id": "s9-uEJlveQNX",
    "papermill": {
     "duration": 0.022496,
     "end_time": "2022-10-19T08:24:08.115802",
     "exception": false,
     "start_time": "2022-10-19T08:24:08.093306",
     "status": "completed"
    },
    "tags": []
   },
   "outputs": [],
   "source": [
    "netD, netG = create_dcgan(device)\n",
    "\n",
    "# Model training \n",
    "criterion = nn.BCELoss()\n",
    "\n",
    "# Create batch of latent vectors to visualize the progress of the generator\n",
    "fixed_noise = torch.randn(64, 84, 1, 1, device=device)\n",
    "\n",
    "real_label = 1\n",
    "fake_label = 0\n",
    "\n",
    "# Setup Adam optimizers for both Generator and Discriminator\n",
    "optimizerD = optim.Adam(netD.parameters(), lr=max_lr_D, betas=(beta1, 0.999))\n",
    "optimizerG = optim.Adam(netG.parameters(), lr=max_lr_G, betas=(beta1, 0.999))"
   ]
  },
  {
   "cell_type": "code",
   "execution_count": null,
   "id": "bf96b442",
   "metadata": {
    "execution": {
     "iopub.execute_input": "2022-10-19T08:24:08.165656Z",
     "iopub.status.busy": "2022-10-19T08:24:08.165064Z",
     "iopub.status.idle": "2022-10-19T11:39:16.257762Z",
     "shell.execute_reply": "2022-10-19T11:39:16.256603Z"
    },
    "executionInfo": {
     "elapsed": 38980,
     "status": "error",
     "timestamp": 1665748755014,
     "user": {
      "displayName": "Jonna Marie Matthiesen",
      "userId": "17151294242372051215"
     },
     "user_tz": -120
    },
    "id": "bZS7FxroeSgv",
    "outputId": "df34eae7-ea0a-4eb9-82ab-5a8bfc8f807c",
    "papermill": {
     "duration": 11708.107214,
     "end_time": "2022-10-19T11:39:16.260566",
     "exception": false,
     "start_time": "2022-10-19T08:24:08.153352",
     "status": "completed"
    },
    "tags": []
   },
   "outputs": [],
   "source": [
    "# Training Loop\n",
    "\n",
    "# Keep track of progress\n",
    "img_list = []\n",
    "G_losses = []\n",
    "D_losses = []\n",
    "iters = 0\n",
    "\n",
    "print(\"Starting Training Loop...\")\n",
    "\n",
    "for epoch in range(num_epochs):\n",
    "\n",
    "    # For each batch in the dataloader\n",
    "    for i, data in enumerate(dataloader, 0):\n",
    "\n",
    "        ############################\n",
    "        # (1) Update D network: maximize log(D(x)) + log(1 - D(G(z)))\n",
    "        ###########################\n",
    "        netD.zero_grad()\n",
    "\n",
    "        # Format batch\n",
    "        real_cpu = data[0].to(device)\n",
    "        b_size = real_cpu.size(0)\n",
    "        output = netD(real_cpu).view(-1)\n",
    "        out_size = output.size(0)\n",
    "\n",
    "        label = torch.full((b_size,), real_label, dtype=torch.float, device=device)\n",
    "        \n",
    "        errD_real = criterion(output, label)\n",
    "        errD_real.backward()\n",
    "        D_x = output.mean().item()\n",
    "\n",
    "        ## Train with all-fake batch\n",
    "        noise = torch.randn(b_size, 84, 1, 1, device=device)\n",
    "        fake = netG(noise)\n",
    "        label.fill_(fake_label)\n",
    "        #label = (0.1*torch.rand((b_size, 1))).to(device)\n",
    "\n",
    "        output = netD(fake.detach()).view(-1)\n",
    "        errD_fake =  criterion(output, label)\n",
    "\n",
    "        errD_fake.backward()\n",
    "        D_G_z1 = output.mean().item()\n",
    "        errD = errD_real + errD_fake\n",
    "\n",
    "        optimizerD.step()\n",
    "\n",
    "        ############################\n",
    "        # (2) Update G network: maximize log(D(G(z)))\n",
    "        ###########################\n",
    "        netG.zero_grad()\n",
    "        label.fill_(real_label) \n",
    "        output = netD(fake).view(-1)\n",
    "        errG = criterion(output, label)\n",
    "        errG.backward()\n",
    "        D_G_z2 = output.mean().item()\n",
    "        optimizerG.step()\n",
    "\n",
    "        # Output training stats\n",
    "        if i % 50 == 0:\n",
    "            print('[%d/%d][%d/%d]\\tLoss_D: %.4f\\tLoss_G: %.4f\\tD(x): %.4f\\tD(G(z)): %.4f / %.4f'\n",
    "                  % (epoch, num_epochs, i, len(dataloader),\n",
    "                     errD.item(), errG.item(), D_x, D_G_z1, D_G_z2))\n",
    "\n",
    "        # Save Losses for plotting later\n",
    "        G_losses.append(errG.item())\n",
    "        D_losses.append(errD.item())\n",
    "\n",
    "        # Check how the generator is doing by saving G's output on fixed_noise\n",
    "        if (iters % 500 == 0) or ((epoch == num_epochs-1) and (i == len(dataloader)-1)):\n",
    "            with torch.no_grad():\n",
    "                fake = netG(fixed_noise).detach().cpu()\n",
    "            img_list.append(vutils.make_grid(fake, padding=2, normalize=True))\n",
    "\n",
    "        iters += 1"
   ]
  },
  {
   "cell_type": "code",
   "execution_count": null,
   "id": "b229f21a",
   "metadata": {
    "execution": {
     "iopub.execute_input": "2022-10-19T11:39:16.305293Z",
     "iopub.status.busy": "2022-10-19T11:39:16.304874Z",
     "iopub.status.idle": "2022-10-19T11:39:16.350700Z",
     "shell.execute_reply": "2022-10-19T11:39:16.349793Z"
    },
    "papermill": {
     "duration": 0.070361,
     "end_time": "2022-10-19T11:39:16.352908",
     "exception": false,
     "start_time": "2022-10-19T11:39:16.282547",
     "status": "completed"
    },
    "tags": []
   },
   "outputs": [],
   "source": [
    "# save models\n",
    "torch.save(netD, \"./netD.pb\")\n",
    "torch.save(netG, \"./netG.pb\")"
   ]
  },
  {
   "cell_type": "code",
   "execution_count": null,
   "id": "c28ed7f4",
   "metadata": {
    "execution": {
     "iopub.execute_input": "2022-10-19T11:39:16.396640Z",
     "iopub.status.busy": "2022-10-19T11:39:16.396340Z",
     "iopub.status.idle": "2022-10-19T11:39:16.935555Z",
     "shell.execute_reply": "2022-10-19T11:39:16.934570Z"
    },
    "executionInfo": {
     "elapsed": 11,
     "status": "aborted",
     "timestamp": 1665748626817,
     "user": {
      "displayName": "Jonna Marie Matthiesen",
      "userId": "17151294242372051215"
     },
     "user_tz": -120
    },
    "id": "rzBIV9HnfiIA",
    "papermill": {
     "duration": 0.564315,
     "end_time": "2022-10-19T11:39:16.938306",
     "exception": false,
     "start_time": "2022-10-19T11:39:16.373991",
     "status": "completed"
    },
    "tags": []
   },
   "outputs": [],
   "source": [
    "# plot results\n",
    "losses(G_losses, D_losses)\n",
    "real_vs_fakes(next(iter(dataloader)), device, img_list)\n",
    "progress(img_list)"
   ]
  },
  {
   "cell_type": "code",
   "execution_count": null,
   "id": "05fec60a",
   "metadata": {},
   "outputs": [],
   "source": []
  }
 ],
 "metadata": {
  "kernelspec": {
   "display_name": "Python 3.9.12 ('dml')",
   "language": "python",
   "name": "python3"
  },
  "language_info": {
   "codemirror_mode": {
    "name": "ipython",
    "version": 3
   },
   "file_extension": ".py",
   "mimetype": "text/x-python",
   "name": "python",
   "nbconvert_exporter": "python",
   "pygments_lexer": "ipython3",
   "version": "3.9.12"
  },
  "papermill": {
   "default_parameters": {},
   "duration": 12016.911192,
   "end_time": "2022-10-19T11:41:47.074346",
   "environment_variables": {},
   "exception": null,
   "input_path": "__notebook__.ipynb",
   "output_path": "__notebook__.ipynb",
   "parameters": {},
   "start_time": "2022-10-19T08:21:30.163154",
   "version": "2.3.4"
  },
  "vscode": {
   "interpreter": {
    "hash": "bdb357bcdf749d6bd6f735d3dc97d0b6e4965ce39d1a9b4df3f91a031968d902"
   }
  }
 },
 "nbformat": 4,
 "nbformat_minor": 5
}
